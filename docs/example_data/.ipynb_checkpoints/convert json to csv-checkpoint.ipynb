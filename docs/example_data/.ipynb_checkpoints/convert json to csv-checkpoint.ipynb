{
 "cells": [
  {
   "cell_type": "code",
   "execution_count": 1,
   "id": "81b11b56",
   "metadata": {},
   "outputs": [],
   "source": [
    "import pandas as pd"
   ]
  },
  {
   "cell_type": "code",
   "execution_count": 3,
   "id": "997c4fd3",
   "metadata": {},
   "outputs": [],
   "source": [
    "filename = 'addresses_denver'"
   ]
  },
  {
   "cell_type": "code",
   "execution_count": 5,
   "id": "420e89d4",
   "metadata": {},
   "outputs": [],
   "source": [
    "pd.read_json(f'{filename}.json').to_csv(f'{filename}.csv', index=False)"
   ]
  },
  {
   "cell_type": "code",
   "execution_count": 6,
   "id": "82397b85",
   "metadata": {},
   "outputs": [],
   "source": [
    "pd.read_json(f'{filename}.json').to_excel(f'{filename}.xlsx', index=False)"
   ]
  },
  {
   "cell_type": "code",
   "execution_count": null,
   "id": "c7495159",
   "metadata": {},
   "outputs": [],
   "source": []
  }
 ],
 "metadata": {
  "kernelspec": {
   "display_name": "Python 3 (ipykernel)",
   "language": "python",
   "name": "python3"
  },
  "language_info": {
   "codemirror_mode": {
    "name": "ipython",
    "version": 3
   },
   "file_extension": ".py",
   "mimetype": "text/x-python",
   "name": "python",
   "nbconvert_exporter": "python",
   "pygments_lexer": "ipython3",
   "version": "3.11.3"
  }
 },
 "nbformat": 4,
 "nbformat_minor": 5
}
