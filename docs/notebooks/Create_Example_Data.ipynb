{
 "cells": [
  {
   "cell_type": "markdown",
   "id": "0",
   "metadata": {},
   "source": [
    "# Create Example Data\n",
    "\n",
    "Build the example data files. "
   ]
  },
  {
   "cell_type": "code",
   "execution_count": null,
   "id": "1",
   "metadata": {},
   "outputs": [],
   "source": [
    "import geopandas as gpd\n",
    "from pathlib import Path"
   ]
  },
  {
   "cell_type": "code",
   "execution_count": null,
   "id": "2",
   "metadata": {},
   "outputs": [],
   "source": [
    "source_dir = Path(\n",
    "    \"/Users/dbrady/OneDrive - NREL/LDRD AI for CBLs/samples_denver_civic_center\"\n",
    ")\n",
    "\n",
    "fema_denver_web = gpd.read_file(source_dir / \"fema_usa_structures_web.geojson\")\n",
    "selection_local = gpd.read_file(source_dir / \"buildings_denver_fema.geojson\")\n",
    "example_data = fema_denver_web[fema_denver_web.BUILD_ID.isin(selection_local.BUILD_ID)]"
   ]
  },
  {
   "cell_type": "code",
   "execution_count": null,
   "id": "3",
   "metadata": {},
   "outputs": [],
   "source": [
    "# Drop a complex shape. 1300 N Broadway\n",
    "example_data = example_data[example_data.BUILD_ID != 15379937]"
   ]
  },
  {
   "cell_type": "code",
   "execution_count": null,
   "id": "4",
   "metadata": {},
   "outputs": [],
   "source": [
    "example_data.iloc[0].squeeze()"
   ]
  },
  {
   "cell_type": "code",
   "execution_count": null,
   "id": "5",
   "metadata": {},
   "outputs": [],
   "source": [
    "columns_to_save = [\"BUILD_ID\", \"OCC_CLS\", \"PRIM_OCC\", \"PROP_ADDR\", \"HEIGHT\", \"geometry\"]\n",
    "example_data[columns_to_save].explode()"
   ]
  },
  {
   "cell_type": "code",
   "execution_count": null,
   "id": "6",
   "metadata": {},
   "outputs": [],
   "source": [
    "# Convert MultiPolygons to Polygons then save\n",
    "(\n",
    "    example_data[columns_to_save]\n",
    "    .explode()\n",
    "    .to_file(\"../example_data/buildings_denver_fema.geojson\", driver=\"GeoJSON\")\n",
    ")"
   ]
  },
  {
   "cell_type": "code",
   "execution_count": null,
   "id": "7",
   "metadata": {},
   "outputs": [],
   "source": []
  }
 ],
 "metadata": {
  "language_info": {
   "codemirror_mode": {
    "name": "ipython",
    "version": 3
   },
   "file_extension": ".py",
   "mimetype": "text/x-python",
   "name": "python",
   "nbconvert_exporter": "python",
   "pygments_lexer": "ipython3"
  }
 },
 "nbformat": 4,
 "nbformat_minor": 5
}
