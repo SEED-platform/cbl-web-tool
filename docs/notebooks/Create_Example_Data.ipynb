{
 "cells": [
  {
   "cell_type": "markdown",
   "id": "8e113334-dd09-4272-8517-b3e862e79463",
   "metadata": {},
   "source": [
    "# Create Example Data\n",
    "\n",
    "Build the example data files. "
   ]
  },
  {
   "cell_type": "code",
   "execution_count": 1,
   "id": "98395dd7-bc9e-4869-b3cf-b83bd0605d44",
   "metadata": {},
   "outputs": [],
   "source": [
    "import geopandas as gpd\n",
    "from pathlib import Path"
   ]
  },
  {
   "cell_type": "code",
   "execution_count": 2,
   "id": "aab6a5fd-023b-40cb-a481-386987e74b05",
   "metadata": {},
   "outputs": [],
   "source": [
    "source_dir = Path('/Users/dbrady/OneDrive - NREL/LDRD AI for CBLs/samples_denver_civic_center')\n",
    "\n",
    "fema_denver_web = gpd.read_file(source_dir / 'fema_usa_structures_web.geojson')\n",
    "selection_local = gpd.read_file(source_dir / 'buildings_denver_fema.geojson')\n",
    "example_data = fema_denver_web[fema_denver_web.BUILD_ID.isin(selection_local.BUILD_ID)]"
   ]
  },
  {
   "cell_type": "code",
   "execution_count": 3,
   "id": "e488d6a3-9f44-40a2-928d-d06d8682ff34",
   "metadata": {},
   "outputs": [],
   "source": [
    "# Drop a complex shape. 1300 N Broadway\n",
    "example_data = example_data[example_data.BUILD_ID != 15379937]"
   ]
  },
  {
   "cell_type": "code",
   "execution_count": 4,
   "id": "59bb0b14-5f6a-4d88-9f8c-a72ab27a873e",
   "metadata": {},
   "outputs": [
    {
     "data": {
      "text/plain": [
       "BUILD_ID                                                 15379260\n",
       "OCC_CLS                                              Unclassified\n",
       "PRIM_OCC                                             Unclassified\n",
       "SEC_OCC                                                      None\n",
       "PROP_ADDR                                     1309 NORTH BROADWAY\n",
       "PROP_CITY                                                  DENVER\n",
       "PROP_ST                                                  Colorado\n",
       "PROP_ZIP                                                    80204\n",
       "OUTBLDG                                                      None\n",
       "HEIGHT                                                  23.469999\n",
       "SQMETERS                                                 7052.083\n",
       "SQFEET                                                  75907.914\n",
       "H_ADJ_ELEV                                                   None\n",
       "L_ADJ_ELEV                                                   None\n",
       "FIPS                                                        08031\n",
       "CENSUSCODE                                            08031002000\n",
       "PROD_DATE                               2012-05-17 00:00:00+00:00\n",
       "SOURCE                                                        NGA\n",
       "USNG                                           13S ED 01015 98607\n",
       "LONGITUDE                                             -104.988154\n",
       "LATITUDE                                                39.737363\n",
       "IMAGE_NAME                                           Li227-Denver\n",
       "IMAGE_DATE                              2012-05-17 00:00:00+00:00\n",
       "VAL_METHOD                                             Unverified\n",
       "REMARKS                                                      None\n",
       "UUID                       {14693438-3d54-42a5-a690-e7e7b3d09fea}\n",
       "Shape_Length                                             0.004753\n",
       "Shape_Area                                               0.000001\n",
       "geometry        MULTIPOLYGON (((-104.98776452499999 39.7378148...\n",
       "Name: 1305, dtype: object"
      ]
     },
     "execution_count": 4,
     "metadata": {},
     "output_type": "execute_result"
    }
   ],
   "source": [
    "example_data.iloc[0].squeeze()"
   ]
  },
  {
   "cell_type": "code",
   "execution_count": 5,
   "id": "cf9fc282-971e-465f-8856-30c151ef88a0",
   "metadata": {},
   "outputs": [
    {
     "data": {
      "text/html": [
       "<div>\n",
       "<style scoped>\n",
       "    .dataframe tbody tr th:only-of-type {\n",
       "        vertical-align: middle;\n",
       "    }\n",
       "\n",
       "    .dataframe tbody tr th {\n",
       "        vertical-align: top;\n",
       "    }\n",
       "\n",
       "    .dataframe thead th {\n",
       "        text-align: right;\n",
       "    }\n",
       "</style>\n",
       "<table border=\"1\" class=\"dataframe\">\n",
       "  <thead>\n",
       "    <tr style=\"text-align: right;\">\n",
       "      <th></th>\n",
       "      <th>BUILD_ID</th>\n",
       "      <th>OCC_CLS</th>\n",
       "      <th>PRIM_OCC</th>\n",
       "      <th>PROP_ADDR</th>\n",
       "      <th>HEIGHT</th>\n",
       "      <th>geometry</th>\n",
       "    </tr>\n",
       "  </thead>\n",
       "  <tbody>\n",
       "    <tr>\n",
       "      <th>1305</th>\n",
       "      <td>15379260</td>\n",
       "      <td>Unclassified</td>\n",
       "      <td>Unclassified</td>\n",
       "      <td>1309 NORTH BROADWAY</td>\n",
       "      <td>23.469999</td>\n",
       "      <td>POLYGON ((-104.98776 39.73781, -104.98777 39.7...</td>\n",
       "    </tr>\n",
       "    <tr>\n",
       "      <th>1319</th>\n",
       "      <td>15379394</td>\n",
       "      <td>Education</td>\n",
       "      <td>Other Educational Buildings</td>\n",
       "      <td>100 WEST 13TH AVENUE</td>\n",
       "      <td>19.490000</td>\n",
       "      <td>POLYGON ((-104.98959 39.73759, -104.98957 39.7...</td>\n",
       "    </tr>\n",
       "    <tr>\n",
       "      <th>1517</th>\n",
       "      <td>15381867</td>\n",
       "      <td>Government</td>\n",
       "      <td>General Services</td>\n",
       "      <td>200 EAST COLFAX AVENUE</td>\n",
       "      <td>30.309999</td>\n",
       "      <td>POLYGON ((-104.98479 39.73969, -104.98479 39.7...</td>\n",
       "    </tr>\n",
       "    <tr>\n",
       "      <th>1523</th>\n",
       "      <td>15381994</td>\n",
       "      <td>Government</td>\n",
       "      <td>General Services</td>\n",
       "      <td>1437 NORTH BANNOCK STREET</td>\n",
       "      <td>22.639999</td>\n",
       "      <td>POLYGON ((-104.99048 39.7398, -104.99048 39.73...</td>\n",
       "    </tr>\n",
       "    <tr>\n",
       "      <th>1691</th>\n",
       "      <td>15400670</td>\n",
       "      <td>Commercial</td>\n",
       "      <td>Professional/Technical Services</td>\n",
       "      <td>270 14TH STREET</td>\n",
       "      <td>4.620000</td>\n",
       "      <td>POLYGON ((-104.99118 39.74043, -104.99111 39.7...</td>\n",
       "    </tr>\n",
       "    <tr>\n",
       "      <th>1780</th>\n",
       "      <td>15402212</td>\n",
       "      <td>Industrial</td>\n",
       "      <td>Light</td>\n",
       "      <td>101 WEST COLFAX AVENUE</td>\n",
       "      <td>37.110001</td>\n",
       "      <td>POLYGON ((-104.9876 39.74126, -104.98759 39.74...</td>\n",
       "    </tr>\n",
       "    <tr>\n",
       "      <th>1795</th>\n",
       "      <td>15402579</td>\n",
       "      <td>Unclassified</td>\n",
       "      <td>Unclassified</td>\n",
       "      <td>201 WEST COLFAX AVENUE</td>\n",
       "      <td>34.720001</td>\n",
       "      <td>POLYGON ((-104.98924 39.74089, -104.99002 39.7...</td>\n",
       "    </tr>\n",
       "  </tbody>\n",
       "</table>\n",
       "</div>"
      ],
      "text/plain": [
       "      BUILD_ID       OCC_CLS                         PRIM_OCC  \\\n",
       "1305  15379260  Unclassified                     Unclassified   \n",
       "1319  15379394     Education      Other Educational Buildings   \n",
       "1517  15381867    Government                 General Services   \n",
       "1523  15381994    Government                 General Services   \n",
       "1691  15400670    Commercial  Professional/Technical Services   \n",
       "1780  15402212    Industrial                            Light   \n",
       "1795  15402579  Unclassified                     Unclassified   \n",
       "\n",
       "                      PROP_ADDR     HEIGHT  \\\n",
       "1305        1309 NORTH BROADWAY  23.469999   \n",
       "1319       100 WEST 13TH AVENUE  19.490000   \n",
       "1517     200 EAST COLFAX AVENUE  30.309999   \n",
       "1523  1437 NORTH BANNOCK STREET  22.639999   \n",
       "1691            270 14TH STREET   4.620000   \n",
       "1780     101 WEST COLFAX AVENUE  37.110001   \n",
       "1795     201 WEST COLFAX AVENUE  34.720001   \n",
       "\n",
       "                                               geometry  \n",
       "1305  POLYGON ((-104.98776 39.73781, -104.98777 39.7...  \n",
       "1319  POLYGON ((-104.98959 39.73759, -104.98957 39.7...  \n",
       "1517  POLYGON ((-104.98479 39.73969, -104.98479 39.7...  \n",
       "1523  POLYGON ((-104.99048 39.7398, -104.99048 39.73...  \n",
       "1691  POLYGON ((-104.99118 39.74043, -104.99111 39.7...  \n",
       "1780  POLYGON ((-104.9876 39.74126, -104.98759 39.74...  \n",
       "1795  POLYGON ((-104.98924 39.74089, -104.99002 39.7...  "
      ]
     },
     "execution_count": 5,
     "metadata": {},
     "output_type": "execute_result"
    }
   ],
   "source": [
    "columns_to_save = ['BUILD_ID', 'OCC_CLS', 'PRIM_OCC', 'PROP_ADDR', 'HEIGHT', 'geometry']\n",
    "example_data[columns_to_save].explode()"
   ]
  },
  {
   "cell_type": "code",
   "execution_count": 6,
   "id": "210ae638-f240-4daf-90c0-60372ba568ba",
   "metadata": {},
   "outputs": [],
   "source": [
    "# Convert MultiPolygons to Polygons then save\n",
    "(\n",
    "    example_data[columns_to_save]\n",
    "    .explode()\n",
    "    .to_file('../example_data/buildings_denver_fema.geojson', driver='GeoJSON')\n",
    ")"
   ]
  },
  {
   "cell_type": "code",
   "execution_count": null,
   "id": "8afb2590-125f-42da-a8c6-7c816ad2727f",
   "metadata": {},
   "outputs": [],
   "source": []
  }
 ],
 "metadata": {
  "kernelspec": {
   "display_name": "Python 3 (ipykernel)",
   "language": "python",
   "name": "python3"
  },
  "language_info": {
   "codemirror_mode": {
    "name": "ipython",
    "version": 3
   },
   "file_extension": ".py",
   "mimetype": "text/x-python",
   "name": "python",
   "nbconvert_exporter": "python",
   "pygments_lexer": "ipython3",
   "version": "3.11.3"
  }
 },
 "nbformat": 4,
 "nbformat_minor": 5
}
