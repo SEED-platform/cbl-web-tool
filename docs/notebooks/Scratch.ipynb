{
 "cells": [
  {
   "cell_type": "markdown",
   "id": "5c22532a-c56a-4940-a8ac-c2f0e86fc936",
   "metadata": {},
   "source": [
    "# Scratch"
   ]
  },
  {
   "cell_type": "code",
   "execution_count": 1,
   "id": "25b01e88-a64a-48cb-9563-26e292f6be86",
   "metadata": {},
   "outputs": [],
   "source": [
    "from collections import OrderedDict"
   ]
  },
  {
   "cell_type": "code",
   "execution_count": 2,
   "id": "d71634cf-5bd5-4c7d-b38f-bb48f87d770e",
   "metadata": {},
   "outputs": [],
   "source": []
  },
  {
   "cell_type": "code",
   "execution_count": 6,
   "id": "3a51e22f-6eab-4010-beb7-5903364b4149",
   "metadata": {},
   "outputs": [
    {
     "data": {
      "text/plain": [
       "OrderedDict([('addresses.csv',\n",
       "              {'address': ['1 Main', '2 Main'], 'city': ['Denver', 'Denver']}),\n",
       "             ('shapes.geojson',\n",
       "              {'a': ['fun', 'cool'], 'city': ['Denver', 'Denver']})])"
      ]
     },
     "execution_count": 6,
     "metadata": {},
     "output_type": "execute_result"
    }
   ],
   "source": [
    "d = OrderedDict()\n",
    "d['addresses.csv'] = {'address': ['1 Main', '2 Main'], 'city': ['Denver', 'Denver']}\n",
    "d['shapes.geojson'] = {'a': ['fun', 'cool'], 'city': ['Denver', 'Denver']}\n",
    "d"
   ]
  },
  {
   "cell_type": "code",
   "execution_count": 7,
   "id": "e00d61b4-1869-4e56-bcad-a540403445bd",
   "metadata": {},
   "outputs": [
    {
     "data": {
      "text/plain": [
       "{'address': ['1 Main', '2 Main'], 'city': ['Denver', 'Denver']}"
      ]
     },
     "execution_count": 7,
     "metadata": {},
     "output_type": "execute_result"
    }
   ],
   "source": [
    "d['addresses.csv']"
   ]
  },
  {
   "cell_type": "code",
   "execution_count": 9,
   "id": "444e0046-78ec-4c58-8be8-e7af9ac41240",
   "metadata": {},
   "outputs": [
    {
     "data": {
      "text/plain": [
       "False"
      ]
     },
     "execution_count": 9,
     "metadata": {},
     "output_type": "execute_result"
    }
   ],
   "source": [
    "'addrdddesses.csv' in d"
   ]
  },
  {
   "cell_type": "code",
   "execution_count": null,
   "id": "81851be2-7c61-484e-8449-33f24bd7712f",
   "metadata": {},
   "outputs": [],
   "source": []
  }
 ],
 "metadata": {
  "kernelspec": {
   "display_name": "Python 3 (ipykernel)",
   "language": "python",
   "name": "python3"
  },
  "language_info": {
   "codemirror_mode": {
    "name": "ipython",
    "version": 3
   },
   "file_extension": ".py",
   "mimetype": "text/x-python",
   "name": "python",
   "nbconvert_exporter": "python",
   "pygments_lexer": "ipython3",
   "version": "3.11.3"
  }
 },
 "nbformat": 4,
 "nbformat_minor": 5
}
