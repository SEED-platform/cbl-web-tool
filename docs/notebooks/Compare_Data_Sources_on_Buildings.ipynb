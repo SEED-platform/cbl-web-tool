{
 "cells": [
  {
   "attachments": {},
   "cell_type": "markdown",
   "id": "0",
   "metadata": {},
   "source": [
    "# Compare Data Sources on Buildings\n",
    "\n",
    "Pull data from different sources for a small area. Save results in CSV and GeoJSON formats. \n",
    "\n",
    "Do not use the flask_app/myenv virtual environment to run this notebook. Create a different virtual environment using the `requirements-notebooks.txt` file. \n",
    "\n",
    "This notebook also relies on USACE and FEMA data downloaded to different parts of your local filesystem. I haven't automated that part, but I might in the future. "
   ]
  },
  {
   "cell_type": "code",
   "execution_count": null,
   "id": "1",
   "metadata": {},
   "outputs": [],
   "source": [
    "# Main libraries\n",
    "import folium\n",
    "import pandas as pd\n",
    "import geopandas as gpd\n",
    "from shapely import box\n",
    "from pathlib import Path\n",
    "\n",
    "# Microsoft\n",
    "import mercantile\n",
    "import sys\n",
    "\n",
    "sys.path.append(\"../../flask_app\")\n",
    "\n",
    "from flask_app.utils.update_dataset_links import update_dataset_links\n",
    "from flask_app.utils.update_quadkeys import update_quadkeys\n",
    "\n",
    "# OSM\n",
    "import osmnx as ox"
   ]
  },
  {
   "cell_type": "code",
   "execution_count": null,
   "id": "2",
   "metadata": {},
   "outputs": [],
   "source": [
    "# Confirm that the Utils path is from this repo. This path should end in: '/cbl-web-tool/flask_app/utils/__init__.py'\n",
    "\n",
    "# import flask_app.utils\n",
    "# Path(utils.__file__).resolve()"
   ]
  },
  {
   "cell_type": "code",
   "execution_count": null,
   "id": "3",
   "metadata": {},
   "outputs": [],
   "source": [
    "LOCAL_CRS = \"EPSG:3502\"  # NAD83(NSRS2007) / Colorado Central (ftUS)\n",
    "WEB_CRS = \"EPSG:4326\""
   ]
  },
  {
   "cell_type": "code",
   "execution_count": null,
   "id": "4",
   "metadata": {},
   "outputs": [],
   "source": [
    "# lat, lon\n",
    "# samples_min = [bottom, left]\n",
    "# samples_max = [top, right]\n",
    "\n",
    "samples_dir = Path(\"samples_golden\")\n",
    "sample_county = \"Jefferson\"\n",
    "sample_min = [39.731257573115556, -105.24554574681486]  # Lookout Mountain\n",
    "sample_max = [39.768608073891706, -105.1641782613617]  # Applewood\n",
    "\n",
    "# samples_dir = Path('samples_denver_downtown')\n",
    "# sample_county = 'Denver'\n",
    "# sample_min = [39.740289, -105.015891] # Colfax and Zuni, approx\n",
    "# sample_max = [39.76921498291726, -104.98196890096911] # Delgany and Festival St\n",
    "\n",
    "# samples_dir = Path('samples_denver_athmar_park')\n",
    "# sample_county = 'Denver'\n",
    "# sample_min = [39.6967070971316, -105.02507698812224] # Federal and Mississippi\n",
    "# sample_max = [39.70392950655037, -105.0086309590224] # Raritan and Exposition\n",
    "# there's a weird north-south strip of missing data from the MS Footprints here.\n",
    "\n",
    "samples_dir.mkdir(exist_ok=True)\n",
    "sample_box = box(\n",
    "    xmin=sample_min[1], ymin=sample_min[0], xmax=sample_max[1], ymax=sample_max[0]\n",
    ")\n",
    "\n",
    "sample_gdf_web = gpd.GeoDataFrame(index=[0], crs=WEB_CRS, geometry=[sample_box])\n",
    "sample_gdf_local = sample_gdf_web.to_crs(LOCAL_CRS)\n",
    "sample_gdf_local.to_file(samples_dir / \"sample_box.geojson\", driver=\"GeoJSON\")"
   ]
  },
  {
   "cell_type": "code",
   "execution_count": null,
   "id": "5",
   "metadata": {},
   "outputs": [],
   "source": [
    "comparison = pd.read_csv(\"Building_Data_Sources.csv\")"
   ]
  },
  {
   "cell_type": "code",
   "execution_count": null,
   "id": "6",
   "metadata": {},
   "outputs": [],
   "source": [
    "this_map = folium.Map(prefer_canvas=True)\n",
    "folium.GeoJson(sample_box).add_to(this_map)\n",
    "this_map.fit_bounds(this_map.get_bounds())\n",
    "# this_map"
   ]
  },
  {
   "cell_type": "markdown",
   "id": "7",
   "metadata": {},
   "source": [
    "## 1. Microsoft - Global Building Footprints \n",
    "\n",
    "https://github.com/microsoft/GlobalMLBuildingFootprints \n",
    "\n",
    "Most of this code is adapted from `Microsoft Footprints Savannah.ipynb`\n",
    "\n",
    "Sometimes there is missing data in MS Footprints in a north-south strip. Not sure why! Keep an eye out for it."
   ]
  },
  {
   "cell_type": "code",
   "execution_count": null,
   "id": "8",
   "metadata": {},
   "outputs": [],
   "source": [
    "# Find all quadkeys that the coordinates fall within\n",
    "quadkeys = set()\n",
    "for coords in [sample_min, sample_max]:\n",
    "    tile = mercantile.tile(coords[1], coords[0], 9)\n",
    "    quadkey = int(mercantile.quadkey(tile))\n",
    "    quadkeys.add(quadkey)\n",
    "\n",
    "quadkeys"
   ]
  },
  {
   "cell_type": "code",
   "execution_count": null,
   "id": "9",
   "metadata": {},
   "outputs": [],
   "source": [
    "# Download quadkey dataset links\n",
    "update_dataset_links()\n",
    "\n",
    "# Download quadkeys\n",
    "update_quadkeys(list(quadkeys))"
   ]
  },
  {
   "cell_type": "code",
   "execution_count": null,
   "id": "10",
   "metadata": {},
   "outputs": [],
   "source": [
    "import gzip\n",
    "from typing import Any\n",
    "\n",
    "# Load building shapes for each quadkey into memory\n",
    "loaded_quadkeys: dict[int, Any] = {}\n",
    "\n",
    "for q in quadkeys:\n",
    "    if q not in loaded_quadkeys:\n",
    "        print(f\"Loading quadkey: {q}\")\n",
    "\n",
    "        with gzip.open(f\"data/quadkeys/{q}.geojsonl.gz\", \"rb\") as f:\n",
    "            loaded_quadkeys[q] = gpd.read_file(f)\n",
    "            print(f\"  {len(loaded_quadkeys[q])} Microsoft footprints in quadkey\")"
   ]
  },
  {
   "cell_type": "code",
   "execution_count": null,
   "id": "11",
   "metadata": {},
   "outputs": [],
   "source": [
    "matching_ms_local_dict = {}\n",
    "\n",
    "print(\"Matching parcel shapes to Microsoft footprints.\")\n",
    "\n",
    "for q in quadkeys:\n",
    "    print(f\"Quadkey: {q}\")\n",
    "    quadkey_local = loaded_quadkeys[q].to_crs(LOCAL_CRS)\n",
    "\n",
    "    nearest = gpd.sjoin_nearest(\n",
    "        sample_gdf_local, quadkey_local, distance_col=\"point_to_building_feet\"\n",
    "    )\n",
    "    nearest.rename(columns={\"index_right\": \"index_ms\"}, inplace=True)\n",
    "\n",
    "    matching_ms_local_dict[quadkey] = quadkey_local[\n",
    "        quadkey_local.index.isin(nearest.index_ms)\n",
    "    ]\n",
    "    matching_ms_local_dict[quadkey] = (\n",
    "        matching_ms_local_dict[quadkey]\n",
    "        .reset_index()\n",
    "        .rename(columns={\"index\": \"index_ms\"})\n",
    "    )"
   ]
  },
  {
   "cell_type": "code",
   "execution_count": null,
   "id": "12",
   "metadata": {},
   "outputs": [],
   "source": [
    "matching_ms_local = (\n",
    "    pd.concat(matching_ms_local_dict)\n",
    "    .reset_index(names=[\"ms_quadkey\", \"index_to_drop\"])\n",
    "    .drop([\"index_to_drop\"], axis=1)\n",
    ")"
   ]
  },
  {
   "cell_type": "code",
   "execution_count": null,
   "id": "13",
   "metadata": {},
   "outputs": [],
   "source": [
    "# this_map = folium.Map(prefer_canvas=True)\n",
    "# folium.GeoJson(sample_box).add_to(this_map)\n",
    "# folium.GeoJson(matching_ms_local.to_crs(WEB_CRS)).add_to(this_map)\n",
    "# this_map.fit_bounds(this_map.get_bounds())\n",
    "# # this_map"
   ]
  },
  {
   "cell_type": "code",
   "execution_count": null,
   "id": "14",
   "metadata": {},
   "outputs": [],
   "source": [
    "matching_ms_local.to_csv(samples_dir / \"ms_footprints.csv\", index=False)\n",
    "matching_ms_local.to_file(samples_dir / \"ms_footprints.geojson\", driver=\"GeoJSON\")"
   ]
  },
  {
   "cell_type": "code",
   "execution_count": null,
   "id": "15",
   "metadata": {},
   "outputs": [],
   "source": [
    "comparison.loc[\n",
    "    comparison.Name == \"Global ML Building Footprints\", \"sample_buildings\"\n",
    "] = len(matching_ms_local)\n",
    "comparison.loc[\n",
    "    comparison.Name == \"Global ML Building Footprints\", \"sample_footprint_area\"\n",
    "] = matching_ms_local.geometry.area.sum()"
   ]
  },
  {
   "cell_type": "markdown",
   "id": "16",
   "metadata": {},
   "source": [
    "## 2. Open Street Maps"
   ]
  },
  {
   "cell_type": "code",
   "execution_count": null,
   "id": "17",
   "metadata": {},
   "outputs": [],
   "source": [
    "# sample = bottom, left, top, right\n",
    "# osm wants = Bounding box as (left, bottom, right, top)\n",
    "\n",
    "matching_osm = ox.features_from_bbox(\n",
    "    bbox=(sample_min[1], sample_min[0], sample_max[1], sample_max[0]),\n",
    "    tags={\"building\": True},\n",
    ")"
   ]
  },
  {
   "cell_type": "code",
   "execution_count": null,
   "id": "18",
   "metadata": {},
   "outputs": [],
   "source": [
    "# Define a function to calculate the new field based on index values\n",
    "# You might need to be off of the VPN / office network to make this connection\n",
    "def calculate_osm_url_field(row):\n",
    "    return f\"https://www.openstreetmap.org/{row.name[0]}/{row.name[1]}\"\n",
    "\n",
    "\n",
    "# Apply the function to each row to calculate the new field\n",
    "matching_osm[\"osm_url\"] = matching_osm.apply(calculate_osm_url_field, axis=1)\n",
    "\n",
    "# convert the height to None or float\n",
    "if \"height\" in matching_osm.columns:\n",
    "    matching_osm[\"height\"] = pd.to_numeric(matching_osm[\"height\"], errors=\"coerce\")\n",
    "\n",
    "# reset the index\n",
    "matching_osm.reset_index(inplace=True)\n",
    "\n",
    "# Convert to local for area calculation\n",
    "matching_osm_local = matching_osm.to_crs(LOCAL_CRS)"
   ]
  },
  {
   "cell_type": "code",
   "execution_count": null,
   "id": "19",
   "metadata": {},
   "outputs": [],
   "source": [
    "matching_osm.to_csv(samples_dir / \"osm.csv\", index=False)\n",
    "# this could be split into two files: one for points (few) and one for polygons (most)\n",
    "matching_osm.to_file(samples_dir / \"osm.geojson\", driver=\"GeoJSON\")"
   ]
  },
  {
   "cell_type": "code",
   "execution_count": null,
   "id": "20",
   "metadata": {},
   "outputs": [],
   "source": [
    "comparison.loc[comparison.Name == \"OpenStreetMap\", \"sample_buildings\"] = len(\n",
    "    matching_osm\n",
    ")\n",
    "comparison.loc[comparison.Name == \"OpenStreetMap\", \"sample_footprint_area\"] = (\n",
    "    matching_osm_local.geometry.area.sum()\n",
    ")"
   ]
  },
  {
   "cell_type": "markdown",
   "id": "21",
   "metadata": {},
   "source": [
    "## 3. ORNL - LandScan\n",
    "\n",
    "https://landscan.ornl.gov/"
   ]
  },
  {
   "cell_type": "code",
   "execution_count": null,
   "id": "22",
   "metadata": {},
   "outputs": [],
   "source": [
    "# skipping"
   ]
  },
  {
   "cell_type": "markdown",
   "id": "23",
   "metadata": {},
   "source": [
    "## 4. USACE - National Structure Inventory\n",
    "\n",
    "https://www.hec.usace.army.mil/confluence/nsi"
   ]
  },
  {
   "cell_type": "code",
   "execution_count": null,
   "id": "24",
   "metadata": {},
   "outputs": [],
   "source": [
    "if sample_county == \"Denver\":\n",
    "    nsi = gpd.read_file(\n",
    "        \"~/OneDrive - NREL/DevinDocuments/National_Structure_Inventory_USACE/fips_08031.geojson\"\n",
    "    )\n",
    "elif sample_county == \"Jefferson\":\n",
    "    nsi = gpd.read_file(\n",
    "        \"~/OneDrive - NREL/DevinDocuments/National_Structure_Inventory_USACE/fips_08059.geojson\"\n",
    "    )\n",
    "else:\n",
    "    error_str = f\"County {sample_county} not downloaded.\"\n",
    "    raise Exception(error_str)"
   ]
  },
  {
   "cell_type": "code",
   "execution_count": null,
   "id": "25",
   "metadata": {},
   "outputs": [],
   "source": [
    "nsi_local = nsi.to_crs(LOCAL_CRS)"
   ]
  },
  {
   "cell_type": "code",
   "execution_count": null,
   "id": "26",
   "metadata": {},
   "outputs": [],
   "source": [
    "nearest_nsi = gpd.sjoin_nearest(\n",
    "    sample_gdf_local, nsi_local, distance_col=\"point_to_building_feet\"\n",
    ")\n",
    "\n",
    "matching_nsi = nsi_local[nsi_local.index.isin(nearest_nsi.index_right)]"
   ]
  },
  {
   "cell_type": "code",
   "execution_count": null,
   "id": "27",
   "metadata": {},
   "outputs": [],
   "source": [
    "# this_map = folium.Map(prefer_canvas=True)\n",
    "# folium.GeoJson(sample_box).add_to(this_map)\n",
    "# folium.GeoJson(matching_nsi).add_to(this_map)\n",
    "# this_map.fit_bounds(this_map.get_bounds())\n",
    "# # this_map"
   ]
  },
  {
   "cell_type": "code",
   "execution_count": null,
   "id": "28",
   "metadata": {},
   "outputs": [],
   "source": [
    "matching_nsi.to_csv(samples_dir / \"usace_nsi.csv\", index=False)\n",
    "matching_nsi.to_file(samples_dir / \"usace_nsi.geojson\", driver=\"GeoJSON\")"
   ]
  },
  {
   "cell_type": "code",
   "execution_count": null,
   "id": "29",
   "metadata": {},
   "outputs": [],
   "source": [
    "comparison.loc[\n",
    "    comparison.Name == \"National Structure Inventory\", \"sample_buildings\"\n",
    "] = len(matching_nsi)\n",
    "comparison.loc[\n",
    "    comparison.Name == \"National Structure Inventory\", \"sample_footprint_area\"\n",
    "] = matching_nsi.sqft.sum()"
   ]
  },
  {
   "cell_type": "markdown",
   "id": "30",
   "metadata": {},
   "source": [
    "## 5. FEMA USA Structures\n",
    "\n",
    "https://gis-fema.hub.arcgis.com/pages/usa-structures "
   ]
  },
  {
   "cell_type": "code",
   "execution_count": null,
   "id": "31",
   "metadata": {},
   "outputs": [],
   "source": [
    "fema_dir = Path(\"~/OneDrive - NREL/DevinDocuments/FEMA Buildings/\")\n",
    "fema = gpd.read_file(fema_dir / \"data/Deliverable20230630CO/CO_Structures.gdb\")\n",
    "\n",
    "# fema_denver = fema[fema.FIPS == '08031'].copy()\n",
    "# fema_denver.to_file(fema_dir / 'fema_denver.geojson', driver='GeoJSON')\n",
    "# fema = gpd.read_file(fema_dir / 'fema_denver.geojson')"
   ]
  },
  {
   "cell_type": "code",
   "execution_count": null,
   "id": "32",
   "metadata": {},
   "outputs": [],
   "source": [
    "fema_local = fema.to_crs(LOCAL_CRS)"
   ]
  },
  {
   "cell_type": "code",
   "execution_count": null,
   "id": "33",
   "metadata": {},
   "outputs": [],
   "source": [
    "nearest_fema = gpd.sjoin_nearest(\n",
    "    sample_gdf_local, fema_local, distance_col=\"point_to_building_feet\"\n",
    ")\n",
    "\n",
    "matching_fema = fema_local[fema_local.index.isin(nearest_fema.index_right)]"
   ]
  },
  {
   "cell_type": "code",
   "execution_count": null,
   "id": "34",
   "metadata": {},
   "outputs": [],
   "source": [
    "# this_map = folium.Map(prefer_canvas=True)\n",
    "# folium.GeoJson(sample_box).add_to(this_map)\n",
    "# folium.GeoJson(matching_fema['geometry']).add_to(this_map)\n",
    "# this_map.fit_bounds(this_map.get_bounds())\n",
    "# # this_map"
   ]
  },
  {
   "cell_type": "code",
   "execution_count": null,
   "id": "35",
   "metadata": {},
   "outputs": [],
   "source": [
    "fema.OCC_CLS.value_counts().head()"
   ]
  },
  {
   "cell_type": "code",
   "execution_count": null,
   "id": "36",
   "metadata": {},
   "outputs": [],
   "source": [
    "fema.PRIM_OCC.value_counts().head()"
   ]
  },
  {
   "cell_type": "code",
   "execution_count": null,
   "id": "37",
   "metadata": {},
   "outputs": [],
   "source": [
    "pivot = pd.pivot_table(\n",
    "    data=fema,\n",
    "    index=[\"PRIM_OCC\"],\n",
    "    columns=[\"OCC_CLS\"],\n",
    "    margins=True,\n",
    "    values=[\"BUILD_ID\"],\n",
    "    aggfunc=\"count\",\n",
    "    fill_value=0,\n",
    ")\n",
    "\n",
    "# pivot.to_clipboard()"
   ]
  },
  {
   "cell_type": "code",
   "execution_count": null,
   "id": "38",
   "metadata": {},
   "outputs": [],
   "source": [
    "prim_occ_cls_counts = fema.groupby([\"OCC_CLS\", \"PRIM_OCC\"]).size()\n",
    "# prim_occ_cls_counts.to_clipboard()"
   ]
  },
  {
   "cell_type": "code",
   "execution_count": null,
   "id": "39",
   "metadata": {},
   "outputs": [],
   "source": [
    "prim_occ_cls_sqft = fema.groupby([\"OCC_CLS\", \"PRIM_OCC\"]).SQFEET.sum()\n",
    "# prim_occ_cls_sqft.to_clipboard()"
   ]
  },
  {
   "cell_type": "code",
   "execution_count": null,
   "id": "40",
   "metadata": {},
   "outputs": [],
   "source": [
    "prim_occ_cls = fema.groupby([\"OCC_CLS\", \"PRIM_OCC\"]).agg(\n",
    "    num_buildings=(\"BUILD_ID\", \"count\"), sqft_sum=(\"SQFEET\", \"sum\")\n",
    ")\n",
    "prim_occ_cls.to_clipboard()"
   ]
  },
  {
   "cell_type": "code",
   "execution_count": null,
   "id": "41",
   "metadata": {},
   "outputs": [],
   "source": [
    "matching_fema.to_csv(samples_dir / \"fema_usa_structures.csv\", index=False)\n",
    "matching_fema.to_file(samples_dir / \"fema_usa_structures.geojson\", driver=\"GeoJSON\")"
   ]
  },
  {
   "cell_type": "code",
   "execution_count": null,
   "id": "42",
   "metadata": {},
   "outputs": [],
   "source": [
    "comparison.loc[comparison.Name == \"USA Structures\", \"sample_buildings\"] = len(\n",
    "    matching_fema\n",
    ")\n",
    "comparison.loc[comparison.Name == \"USA Structures\", \"sample_footprint_area\"] = (\n",
    "    matching_fema.SQFEET.sum()\n",
    ")"
   ]
  },
  {
   "cell_type": "markdown",
   "id": "43",
   "metadata": {},
   "source": [
    "## Results"
   ]
  },
  {
   "cell_type": "code",
   "execution_count": null,
   "id": "44",
   "metadata": {},
   "outputs": [],
   "source": [
    "pd.options.display.float_format = \"{:,.0f}\".format\n",
    "comparison[[\"Name\", \"Owner\", \"sample_buildings\", \"sample_footprint_area\"]]"
   ]
  },
  {
   "cell_type": "code",
   "execution_count": null,
   "id": "45",
   "metadata": {},
   "outputs": [],
   "source": [
    "comparison.to_csv(samples_dir / \"comparison_counts.csv\", index=False)"
   ]
  },
  {
   "cell_type": "code",
   "execution_count": null,
   "id": "46",
   "metadata": {},
   "outputs": [],
   "source": []
  }
 ],
 "metadata": {
  "language_info": {
   "codemirror_mode": {
    "name": "ipython",
    "version": 3
   },
   "file_extension": ".py",
   "mimetype": "text/x-python",
   "name": "python",
   "nbconvert_exporter": "python",
   "pygments_lexer": "ipython3"
  }
 },
 "nbformat": 4,
 "nbformat_minor": 5
}
