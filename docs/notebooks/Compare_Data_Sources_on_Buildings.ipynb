{
 "cells": [
  {
   "attachments": {},
   "cell_type": "markdown",
   "id": "507f5ed9",
   "metadata": {},
   "source": [
    "# Compare Data Sources on Buildings\n",
    "\n",
    "Pull data from different sources for a small area. Save results in CSV and GeoJSON formats. \n",
    "\n",
    "Do not use the flask-app/myenv virtual environment to run this notebook. Create a different virtual environment using the `requirements-notebooks.txt` file. \n",
    "\n",
    "This notebook also relies on USACE and FEMA data downloaded to different parts of your local filesystem. I haven't automated that part, but I might in the future. "
   ]
  },
  {
   "cell_type": "code",
   "execution_count": 1,
   "id": "e95a9940",
   "metadata": {},
   "outputs": [],
   "source": [
    "# Main libraries\n",
    "import folium\n",
    "import pandas as pd\n",
    "import geopandas as gpd\n",
    "from shapely import box\n",
    "from pathlib import Path\n",
    "\n",
    "# Microsoft\n",
    "import mercantile\n",
    "import sys\n",
    "sys.path.append('../../flask-app')\n",
    "\n",
    "from utils.update_dataset_links import update_dataset_links\n",
    "from utils.update_quadkeys import update_quadkeys\n",
    "\n",
    "# OSM\n",
    "import osmnx as ox"
   ]
  },
  {
   "cell_type": "code",
   "execution_count": 2,
   "id": "a36fd6bb-c894-4022-a426-5956181752ba",
   "metadata": {},
   "outputs": [],
   "source": [
    "# Confirm that the Utils path is from this repo. This path should end in: '/cbl-web-tool/flask-app/utils/__init__.py'\n",
    "\n",
    "# import utils\n",
    "# Path(utils.__file__).resolve()"
   ]
  },
  {
   "cell_type": "code",
   "execution_count": 3,
   "id": "21333626",
   "metadata": {},
   "outputs": [],
   "source": [
    "LOCAL_CRS = 'EPSG:3502' # NAD83(NSRS2007) / Colorado Central (ftUS)\n",
    "WEB_CRS = 'EPSG:4326'"
   ]
  },
  {
   "cell_type": "code",
   "execution_count": 4,
   "id": "9f2eb47b",
   "metadata": {},
   "outputs": [],
   "source": [
    "# lat, lon\n",
    "# samples_min = [bottom, left]\n",
    "# samples_max = [top, right]\n",
    "\n",
    "samples_dir = Path('samples_golden')\n",
    "sample_county = 'Jefferson'\n",
    "sample_min = [39.731257573115556, -105.24554574681486] # Lookout Mountain\n",
    "sample_max = [39.768608073891706, -105.1641782613617] # Applewood\n",
    "\n",
    "# samples_dir = Path('samples_denver_downtown')\n",
    "# sample_county = 'Denver'\n",
    "# sample_min = [39.740289, -105.015891] # Colfax and Zuni, approx\n",
    "# sample_max = [39.76921498291726, -104.98196890096911] # Delgany and Festival St\n",
    "\n",
    "# samples_dir = Path('samples_denver_athmar_park')\n",
    "# sample_county = 'Denver'\n",
    "# sample_min = [39.6967070971316, -105.02507698812224] # Federal and Mississippi\n",
    "# sample_max = [39.70392950655037, -105.0086309590224] # Raritan and Exposition\n",
    "# there's a weird north-south strip of missing data from the MS Footprints here.\n",
    "\n",
    "samples_dir.mkdir(exist_ok=True)\n",
    "sample_box = box(\n",
    "    xmin=sample_min[1]\n",
    "    , ymin=sample_min[0]\n",
    "    , xmax=sample_max[1]\n",
    "    , ymax=sample_max[0]\n",
    ")\n",
    "\n",
    "sample_gdf_web = gpd.GeoDataFrame(index=[0], crs=WEB_CRS, geometry=[sample_box])\n",
    "sample_gdf_local = sample_gdf_web.to_crs(LOCAL_CRS)\n",
    "sample_gdf_local.to_file(samples_dir / 'sample_box.geojson', driver='GeoJSON')"
   ]
  },
  {
   "cell_type": "code",
   "execution_count": 5,
   "id": "3516cc37-6126-4679-be1f-a7757bafc0ee",
   "metadata": {},
   "outputs": [],
   "source": [
    "comparison = pd.read_csv('Building_Data_Sources.csv')"
   ]
  },
  {
   "cell_type": "code",
   "execution_count": 6,
   "id": "31032012",
   "metadata": {},
   "outputs": [],
   "source": [
    "this_map = folium.Map(prefer_canvas=True)\n",
    "folium.GeoJson(sample_box).add_to(this_map)\n",
    "this_map.fit_bounds(this_map.get_bounds())\n",
    "# this_map"
   ]
  },
  {
   "cell_type": "markdown",
   "id": "8480a14e",
   "metadata": {},
   "source": [
    "## 1. Microsoft - Global Building Footprints \n",
    "\n",
    "https://github.com/microsoft/GlobalMLBuildingFootprints \n",
    "\n",
    "Most of this code is adapted from `Microsoft Footprints Savannah.ipynb`\n",
    "\n",
    "Sometimes there is missing data in MS Footprints in a north-south strip. Not sure why! Keep an eye out for it."
   ]
  },
  {
   "cell_type": "code",
   "execution_count": 7,
   "id": "f20b9c6a",
   "metadata": {},
   "outputs": [
    {
     "data": {
      "text/plain": [
       "{23101030}"
      ]
     },
     "execution_count": 7,
     "metadata": {},
     "output_type": "execute_result"
    }
   ],
   "source": [
    "# Find all quadkeys that the coordinates fall within\n",
    "quadkeys = set()\n",
    "for coords in [sample_min, sample_max]:\n",
    "    tile = mercantile.tile(coords[1], coords[0], 9)\n",
    "    quadkey = int(mercantile.quadkey(tile))\n",
    "    quadkeys.add(quadkey)\n",
    "\n",
    "quadkeys"
   ]
  },
  {
   "cell_type": "code",
   "execution_count": 8,
   "id": "743509d3",
   "metadata": {},
   "outputs": [
    {
     "name": "stderr",
     "output_type": "stream",
     "text": [
      "100%|██████████████████████████████████████████████████████████████████████████████████████████████████████████████████████████████████████████████████████████████████████████████| 1/1 [00:00<00:00,  5.80it/s]\n"
     ]
    }
   ],
   "source": [
    "# Download quadkey dataset links\n",
    "update_dataset_links()\n",
    "\n",
    "# Download quadkeys\n",
    "update_quadkeys(list(quadkeys))"
   ]
  },
  {
   "cell_type": "code",
   "execution_count": 9,
   "id": "4350dccf",
   "metadata": {},
   "outputs": [
    {
     "name": "stdout",
     "output_type": "stream",
     "text": [
      "Loading quadkey: 23101030\n",
      "  731328 Microsoft footprints in quadkey\n"
     ]
    }
   ],
   "source": [
    "import gzip\n",
    "from typing import Any\n",
    "\n",
    "# Load building shapes for each quadkey into memory\n",
    "loaded_quadkeys: dict[int, Any] = {}\n",
    "\n",
    "for q in quadkeys:\n",
    "    if q not in loaded_quadkeys:\n",
    "        print(f\"Loading quadkey: {q}\")\n",
    "\n",
    "        with gzip.open(f\"data/quadkeys/{q}.geojsonl.gz\", \"rb\") as f:\n",
    "            loaded_quadkeys[q] = gpd.read_file(f)\n",
    "            print(f\"  {len(loaded_quadkeys[q])} Microsoft footprints in quadkey\")"
   ]
  },
  {
   "cell_type": "code",
   "execution_count": 10,
   "id": "ed3a0cdc-68dd-45d5-aeb0-cd9f48667a88",
   "metadata": {},
   "outputs": [
    {
     "name": "stdout",
     "output_type": "stream",
     "text": [
      "Matching parcel shapes to Microsoft footprints.\n",
      "Quadkey: 23101030\n"
     ]
    }
   ],
   "source": [
    "matching_ms_local_dict = {}\n",
    "\n",
    "print('Matching parcel shapes to Microsoft footprints.')\n",
    "\n",
    "for q in quadkeys:\n",
    "    print(f'Quadkey: {q}')\n",
    "    quadkey_local = loaded_quadkeys[q].to_crs(LOCAL_CRS)\n",
    "    \n",
    "    nearest = gpd.sjoin_nearest(sample_gdf_local, quadkey_local, distance_col='point_to_building_feet')\n",
    "    nearest.rename(columns={'index_right': 'index_ms'}, inplace=True)\n",
    "\n",
    "    matching_ms_local_dict[quadkey] = quadkey_local[quadkey_local.index.isin(nearest.index_ms)]\n",
    "    matching_ms_local_dict[quadkey] = matching_ms_local_dict[quadkey].reset_index().rename(columns={'index': 'index_ms'})"
   ]
  },
  {
   "cell_type": "code",
   "execution_count": 11,
   "id": "e92756e0-6556-4d55-a344-1f65a0113449",
   "metadata": {},
   "outputs": [],
   "source": [
    "matching_ms_local = (\n",
    "    pd.concat(matching_ms_local_dict)\n",
    "    .reset_index(names=['ms_quadkey', 'index_to_drop'])\n",
    "    .drop(['index_to_drop'], axis=1)\n",
    ")"
   ]
  },
  {
   "cell_type": "code",
   "execution_count": 12,
   "id": "263bc8dd-483a-4fdb-8343-e151d4233c05",
   "metadata": {},
   "outputs": [],
   "source": [
    "# this_map = folium.Map(prefer_canvas=True)\n",
    "# folium.GeoJson(sample_box).add_to(this_map)\n",
    "# folium.GeoJson(matching_ms_local.to_crs(WEB_CRS)).add_to(this_map)\n",
    "# this_map.fit_bounds(this_map.get_bounds())\n",
    "# # this_map"
   ]
  },
  {
   "cell_type": "code",
   "execution_count": 13,
   "id": "a3d40828-4498-46b4-8c73-aaf22baccd73",
   "metadata": {},
   "outputs": [],
   "source": [
    "matching_ms_local.to_csv(samples_dir / 'ms_footprints.csv', index=False)\n",
    "matching_ms_local.to_file(samples_dir / 'ms_footprints.geojson', driver='GeoJSON')"
   ]
  },
  {
   "cell_type": "code",
   "execution_count": 14,
   "id": "186ec877-a709-44ec-aba8-4d696b0d8ef0",
   "metadata": {},
   "outputs": [],
   "source": [
    "comparison.loc[comparison.Name == 'Global ML Building Footprints', 'sample_buildings'] = len(matching_ms_local)\n",
    "comparison.loc[comparison.Name == 'Global ML Building Footprints', 'sample_footprint_area'] = matching_ms_local.geometry.area.sum()"
   ]
  },
  {
   "cell_type": "markdown",
   "id": "4ec2a519",
   "metadata": {},
   "source": [
    "## 2. Open Street Maps"
   ]
  },
  {
   "cell_type": "code",
   "execution_count": 15,
   "id": "ea621738-5f57-4613-914d-a1945b5b52ba",
   "metadata": {},
   "outputs": [],
   "source": [
    "# sample = bottom, left, top, right\n",
    "# osm wants = Bounding box as (left, bottom, right, top)\n",
    "\n",
    "matching_osm = ox.features_from_bbox(bbox=(sample_min[1], sample_min[0], sample_max[1], sample_max[0]), tags={'building': True})"
   ]
  },
  {
   "cell_type": "code",
   "execution_count": 16,
   "id": "5736b87f-debf-4af4-90e2-85ea07d46a72",
   "metadata": {},
   "outputs": [],
   "source": [
    "# Define a function to calculate the new field based on index values\n",
    "# You might need to be off of the VPN / office network to make this connection\n",
    "def calculate_osm_url_field(row):\n",
    "    return f\"https://www.openstreetmap.org/{row.name[0]}/{row.name[1]}\"\n",
    "\n",
    "# Apply the function to each row to calculate the new field\n",
    "matching_osm[\"osm_url\"] = matching_osm.apply(calculate_osm_url_field, axis=1)\n",
    "\n",
    "# convert the height to None or float\n",
    "if \"height\" in matching_osm.columns:\n",
    "    matching_osm[\"height\"] = pd.to_numeric(matching_osm[\"height\"], errors=\"coerce\")\n",
    "\n",
    "# reset the index\n",
    "matching_osm.reset_index(inplace=True)\n",
    "\n",
    "# Convert to local for area calculation\n",
    "matching_osm_local = matching_osm.to_crs(LOCAL_CRS)"
   ]
  },
  {
   "cell_type": "code",
   "execution_count": 17,
   "id": "0522ffd1-d904-49b0-a86f-a213c588400d",
   "metadata": {},
   "outputs": [],
   "source": [
    "matching_osm.to_csv(samples_dir / 'osm.csv', index=False)\n",
    "# this could be split into two files: one for points (few) and one for polygons (most)\n",
    "matching_osm.to_file(samples_dir / 'osm.geojson', driver='GeoJSON')"
   ]
  },
  {
   "cell_type": "code",
   "execution_count": 18,
   "id": "148573ca-6b0a-4fa4-8ee8-634ace27a5d0",
   "metadata": {},
   "outputs": [],
   "source": [
    "comparison.loc[comparison.Name == 'OpenStreetMap', 'sample_buildings'] = len(matching_osm)\n",
    "comparison.loc[comparison.Name == 'OpenStreetMap', 'sample_footprint_area'] = matching_osm_local.geometry.area.sum()"
   ]
  },
  {
   "cell_type": "markdown",
   "id": "358979aa",
   "metadata": {},
   "source": [
    "## 3. ORNL - LandScan\n",
    "\n",
    "https://landscan.ornl.gov/"
   ]
  },
  {
   "cell_type": "code",
   "execution_count": 19,
   "id": "05505889",
   "metadata": {},
   "outputs": [],
   "source": [
    "# skipping"
   ]
  },
  {
   "cell_type": "markdown",
   "id": "99829870",
   "metadata": {},
   "source": [
    "## 4. USACE - National Structure Inventory\n",
    "\n",
    "https://www.hec.usace.army.mil/confluence/nsi"
   ]
  },
  {
   "cell_type": "code",
   "execution_count": 20,
   "id": "69c02c32",
   "metadata": {},
   "outputs": [],
   "source": [
    "if sample_county == 'Denver':\n",
    "    nsi = gpd.read_file('~/OneDrive - NREL/DevinDocuments/National_Structure_Inventory_USACE/fips_08031.geojson')\n",
    "elif sample_county == 'Jefferson':\n",
    "    nsi = gpd.read_file('~/OneDrive - NREL/DevinDocuments/National_Structure_Inventory_USACE/fips_08059.geojson')\n",
    "else:\n",
    "    error_str = f'County {sample_county} not downloaded.'\n",
    "    raise Exception(error_str)"
   ]
  },
  {
   "cell_type": "code",
   "execution_count": 21,
   "id": "702998c3-7ea3-4429-b1b2-6837b8ad5761",
   "metadata": {},
   "outputs": [],
   "source": [
    "nsi_local = nsi.to_crs(LOCAL_CRS)"
   ]
  },
  {
   "cell_type": "code",
   "execution_count": 22,
   "id": "1f34221c-1ba9-469c-bce3-53fb23a3f77e",
   "metadata": {},
   "outputs": [],
   "source": [
    "nearest_nsi = gpd.sjoin_nearest(sample_gdf_local, nsi_local, distance_col='point_to_building_feet')\n",
    "\n",
    "matching_nsi = nsi_local[nsi_local.index.isin(nearest_nsi.index_right)]"
   ]
  },
  {
   "cell_type": "code",
   "execution_count": 23,
   "id": "6deff386-d26b-4143-9a8a-e6d71521ea23",
   "metadata": {},
   "outputs": [],
   "source": [
    "# this_map = folium.Map(prefer_canvas=True)\n",
    "# folium.GeoJson(sample_box).add_to(this_map)\n",
    "# folium.GeoJson(matching_nsi).add_to(this_map)\n",
    "# this_map.fit_bounds(this_map.get_bounds())\n",
    "# # this_map"
   ]
  },
  {
   "cell_type": "code",
   "execution_count": 24,
   "id": "adf8154b-1327-4c6d-8366-0f6ca20782a9",
   "metadata": {},
   "outputs": [],
   "source": [
    "matching_nsi.to_csv(samples_dir / 'usace_nsi.csv', index=False)\n",
    "matching_nsi.to_file(samples_dir / 'usace_nsi.geojson', driver='GeoJSON')"
   ]
  },
  {
   "cell_type": "code",
   "execution_count": 25,
   "id": "33e67cda-863c-42e6-87d0-099f288ecf18",
   "metadata": {},
   "outputs": [],
   "source": [
    "comparison.loc[comparison.Name == 'National Structure Inventory', 'sample_buildings'] = len(matching_nsi)\n",
    "comparison.loc[comparison.Name == 'National Structure Inventory', 'sample_footprint_area'] = matching_nsi.sqft.sum()"
   ]
  },
  {
   "cell_type": "markdown",
   "id": "62edb9bb",
   "metadata": {},
   "source": [
    "## 5. FEMA USA Structures\n",
    "\n",
    "https://gis-fema.hub.arcgis.com/pages/usa-structures "
   ]
  },
  {
   "cell_type": "code",
   "execution_count": 26,
   "id": "44111d3f-9fd2-4612-9b4a-0a3fea13eadd",
   "metadata": {},
   "outputs": [],
   "source": [
    "fema_dir = Path('~/OneDrive - NREL/DevinDocuments/FEMA Buildings/')\n",
    "fema = gpd.read_file(fema_dir / 'data/Deliverable20230630CO/CO_Structures.gdb')\n",
    "\n",
    "# fema_denver = fema[fema.FIPS == '08031'].copy()\n",
    "# fema_denver.to_file(fema_dir / 'fema_denver.geojson', driver='GeoJSON')\n",
    "# fema = gpd.read_file(fema_dir / 'fema_denver.geojson')"
   ]
  },
  {
   "cell_type": "code",
   "execution_count": 27,
   "id": "4cb75b1f-4b2e-405e-b610-3ea08d27cd6b",
   "metadata": {},
   "outputs": [],
   "source": [
    "fema_local = fema.to_crs(LOCAL_CRS)"
   ]
  },
  {
   "cell_type": "code",
   "execution_count": 28,
   "id": "718e4ea7-ec0a-445c-9619-fffab6e701b9",
   "metadata": {},
   "outputs": [],
   "source": [
    "nearest_fema = gpd.sjoin_nearest(sample_gdf_local, fema_local, distance_col='point_to_building_feet')\n",
    "\n",
    "matching_fema = fema_local[fema_local.index.isin(nearest_fema.index_right)]"
   ]
  },
  {
   "cell_type": "code",
   "execution_count": 29,
   "id": "be2544d3-fb18-4ad7-ad75-06e390e77f61",
   "metadata": {},
   "outputs": [],
   "source": [
    "# this_map = folium.Map(prefer_canvas=True)\n",
    "# folium.GeoJson(sample_box).add_to(this_map)\n",
    "# folium.GeoJson(matching_fema['geometry']).add_to(this_map)\n",
    "# this_map.fit_bounds(this_map.get_bounds())\n",
    "# # this_map"
   ]
  },
  {
   "cell_type": "code",
   "execution_count": 30,
   "id": "565403cc-efac-42eb-b6fa-bb30de943812",
   "metadata": {},
   "outputs": [
    {
     "data": {
      "text/plain": [
       "OCC_CLS\n",
       "Residential     1989168\n",
       "Commercial        73269\n",
       "Unclassified      66119\n",
       "Agriculture       39658\n",
       "Industrial        21522\n",
       "Name: count, dtype: int64"
      ]
     },
     "execution_count": 30,
     "metadata": {},
     "output_type": "execute_result"
    }
   ],
   "source": [
    "fema.OCC_CLS.value_counts().head()"
   ]
  },
  {
   "cell_type": "code",
   "execution_count": 31,
   "id": "f48bddf7-8331-43f3-aa77-9f160c5e249a",
   "metadata": {},
   "outputs": [
    {
     "data": {
      "text/plain": [
       "PRIM_OCC\n",
       "Single Family Dwelling     1782748\n",
       "Manufactured Home            92071\n",
       "Unclassified                 88412\n",
       "Multi - Family Dwelling      83307\n",
       "Agriculture                  39658\n",
       "Name: count, dtype: int64"
      ]
     },
     "execution_count": 31,
     "metadata": {},
     "output_type": "execute_result"
    }
   ],
   "source": [
    "fema.PRIM_OCC.value_counts().head()"
   ]
  },
  {
   "cell_type": "code",
   "execution_count": 32,
   "id": "01573e63-a76a-480a-9d80-2374adf689ba",
   "metadata": {},
   "outputs": [],
   "source": [
    "pivot = pd.pivot_table(\n",
    "    data=fema\n",
    "    , index=['PRIM_OCC']\n",
    "    , columns=['OCC_CLS']\n",
    "    , margins=True\n",
    "    , values=['BUILD_ID']\n",
    "    , aggfunc='count'\n",
    "    , fill_value=0\n",
    ")\n",
    "\n",
    "# pivot.to_clipboard()"
   ]
  },
  {
   "cell_type": "code",
   "execution_count": 33,
   "id": "b61bb98c-ecd2-4e29-ba32-8acc2a98a1d6",
   "metadata": {},
   "outputs": [],
   "source": [
    "prim_occ_cls_counts = fema.groupby(['OCC_CLS', 'PRIM_OCC']).size()\n",
    "# prim_occ_cls_counts.to_clipboard()"
   ]
  },
  {
   "cell_type": "code",
   "execution_count": 34,
   "id": "12842322-2f3c-41d3-bc84-d0c2cb5a2123",
   "metadata": {},
   "outputs": [],
   "source": [
    "prim_occ_cls_sqft = fema.groupby(['OCC_CLS', 'PRIM_OCC']).SQFEET.sum()\n",
    "# prim_occ_cls_sqft.to_clipboard()"
   ]
  },
  {
   "cell_type": "code",
   "execution_count": 35,
   "id": "53e806fe-1f67-4eb1-8e6b-46c39725891d",
   "metadata": {},
   "outputs": [],
   "source": [
    "prim_occ_cls = fema.groupby(['OCC_CLS', 'PRIM_OCC']).agg(\n",
    "    num_buildings=('BUILD_ID', 'count')\n",
    "    , sqft_sum=('SQFEET', 'sum')\n",
    ")\n",
    "prim_occ_cls.to_clipboard()"
   ]
  },
  {
   "cell_type": "code",
   "execution_count": 36,
   "id": "35b1a573-d84f-42c2-a691-9342b2f6faec",
   "metadata": {},
   "outputs": [],
   "source": [
    "matching_fema.to_csv(samples_dir / 'fema_usa_structures.csv', index=False)\n",
    "matching_fema.to_file(samples_dir / 'fema_usa_structures.geojson', driver='GeoJSON')"
   ]
  },
  {
   "cell_type": "code",
   "execution_count": 37,
   "id": "539be037-c5be-4495-8f3c-631caa93300a",
   "metadata": {},
   "outputs": [],
   "source": [
    "comparison.loc[comparison.Name == 'USA Structures', 'sample_buildings'] = len(matching_fema)\n",
    "comparison.loc[comparison.Name == 'USA Structures', 'sample_footprint_area'] = matching_fema.SQFEET.sum()"
   ]
  },
  {
   "cell_type": "markdown",
   "id": "3f628272-1dba-42f0-b6af-f25c279f1606",
   "metadata": {},
   "source": [
    "## Results"
   ]
  },
  {
   "cell_type": "code",
   "execution_count": 38,
   "id": "14101c99-b462-48c1-8b5c-e827b88d1a6d",
   "metadata": {},
   "outputs": [
    {
     "data": {
      "text/html": [
       "<div>\n",
       "<style scoped>\n",
       "    .dataframe tbody tr th:only-of-type {\n",
       "        vertical-align: middle;\n",
       "    }\n",
       "\n",
       "    .dataframe tbody tr th {\n",
       "        vertical-align: top;\n",
       "    }\n",
       "\n",
       "    .dataframe thead th {\n",
       "        text-align: right;\n",
       "    }\n",
       "</style>\n",
       "<table border=\"1\" class=\"dataframe\">\n",
       "  <thead>\n",
       "    <tr style=\"text-align: right;\">\n",
       "      <th></th>\n",
       "      <th>Name</th>\n",
       "      <th>Owner</th>\n",
       "      <th>sample_buildings</th>\n",
       "      <th>sample_footprint_area</th>\n",
       "    </tr>\n",
       "  </thead>\n",
       "  <tbody>\n",
       "    <tr>\n",
       "      <th>0</th>\n",
       "      <td>Global ML Building Footprints</td>\n",
       "      <td>Microsoft</td>\n",
       "      <td>5,381</td>\n",
       "      <td>16,786,453</td>\n",
       "    </tr>\n",
       "    <tr>\n",
       "      <th>1</th>\n",
       "      <td>OpenStreetMap</td>\n",
       "      <td>OSM Foundation</td>\n",
       "      <td>5,135</td>\n",
       "      <td>17,288,366</td>\n",
       "    </tr>\n",
       "    <tr>\n",
       "      <th>2</th>\n",
       "      <td>National Structure Inventory</td>\n",
       "      <td>US Army Corps of Engineers</td>\n",
       "      <td>5,863</td>\n",
       "      <td>19,757,540</td>\n",
       "    </tr>\n",
       "    <tr>\n",
       "      <th>3</th>\n",
       "      <td>USA Structures</td>\n",
       "      <td>Federal Emergency Management Agency</td>\n",
       "      <td>5,485</td>\n",
       "      <td>17,968,122</td>\n",
       "    </tr>\n",
       "    <tr>\n",
       "      <th>4</th>\n",
       "      <td>LandScan</td>\n",
       "      <td>Oak Ridge National Laboratory</td>\n",
       "      <td>NaN</td>\n",
       "      <td>NaN</td>\n",
       "    </tr>\n",
       "  </tbody>\n",
       "</table>\n",
       "</div>"
      ],
      "text/plain": [
       "                            Name                                Owner  \\\n",
       "0  Global ML Building Footprints                            Microsoft   \n",
       "1                  OpenStreetMap                       OSM Foundation   \n",
       "2   National Structure Inventory           US Army Corps of Engineers   \n",
       "3                 USA Structures  Federal Emergency Management Agency   \n",
       "4                       LandScan        Oak Ridge National Laboratory   \n",
       "\n",
       "   sample_buildings  sample_footprint_area  \n",
       "0             5,381             16,786,453  \n",
       "1             5,135             17,288,366  \n",
       "2             5,863             19,757,540  \n",
       "3             5,485             17,968,122  \n",
       "4               NaN                    NaN  "
      ]
     },
     "execution_count": 38,
     "metadata": {},
     "output_type": "execute_result"
    }
   ],
   "source": [
    "pd.options.display.float_format = '{:,.0f}'.format\n",
    "comparison[['Name', 'Owner', 'sample_buildings', 'sample_footprint_area']]"
   ]
  },
  {
   "cell_type": "code",
   "execution_count": 39,
   "id": "7fc6ce7f-657b-42ab-99c2-9734df1c185d",
   "metadata": {},
   "outputs": [],
   "source": [
    "comparison.to_csv(samples_dir / 'comparison_counts.csv', index=False)"
   ]
  },
  {
   "cell_type": "code",
   "execution_count": null,
   "id": "f81d2278-4d4b-438a-8db1-ac8d2ac30f72",
   "metadata": {},
   "outputs": [],
   "source": []
  }
 ],
 "metadata": {
  "kernelspec": {
   "display_name": "Python 3 (ipykernel)",
   "language": "python",
   "name": "python3"
  },
  "language_info": {
   "codemirror_mode": {
    "name": "ipython",
    "version": 3
   },
   "file_extension": ".py",
   "mimetype": "text/x-python",
   "name": "python",
   "nbconvert_exporter": "python",
   "pygments_lexer": "ipython3",
   "version": "3.11.3"
  }
 },
 "nbformat": 4,
 "nbformat_minor": 5
}
